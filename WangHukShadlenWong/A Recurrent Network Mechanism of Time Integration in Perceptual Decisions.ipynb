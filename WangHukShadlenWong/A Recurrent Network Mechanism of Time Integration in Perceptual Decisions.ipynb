{
 "cells": [
  {
   "cell_type": "markdown",
   "metadata": {},
   "source": [
    "# A Recurrent Network Mechanism of Time Integration in Perceptual Decisions\n",
    "Wong,  Wang\n",
    "Journal of Neuroscience, January 2006, 26(4):1212-1328"
   ]
  },
  {
   "cell_type": "markdown",
   "metadata": {},
   "source": [
    "## Material and Methods\n",
    "### The full network model"
   ]
  },
  {
   "cell_type": "markdown",
   "metadata": {},
   "source": [
    "### Calling Library Fuctions"
   ]
  },
  {
   "cell_type": "code",
   "execution_count": 1,
   "metadata": {},
   "outputs": [],
   "source": [
    "# LIBRARY\n",
    "\n",
    "import numpy as np # vector manipulation\n",
    "import math  # math functions\n",
    "import sys\n",
    "\n",
    "# THIS IS FOR PLOTTING\n",
    "%matplotlib inline\n",
    "import matplotlib.pyplot as plt # side-stepping mpl backend\n",
    "import warnings\n",
    "warnings.filterwarnings(\"ignore\")\n"
   ]
  },
  {
   "cell_type": "markdown",
   "metadata": {},
   "source": [
    "### The Reduced Network Model\n",
    "#### Firing rate\n",
    "$$ \\phi(I_{i})=\\frac{c_{E,I}I_{syn}-I_{E,I}}{(1-exp(-g_{E,I}(C_{E,I}I_{syn}-I_{E,I}))}$$\n",
    "\n",
    "Pyramidal cells: $I_E=125$Hz, $g_E=0.15$s, and $c_{E}=310(VnC)^{-1}$.\n",
    "\n",
    "Interneurons: $I_I=177$Hz, $g_E=0.087$s, and $c_{I}=615(VnC)^{-1}$."
   ]
  },
  {
   "cell_type": "code",
   "execution_count": 2,
   "metadata": {},
   "outputs": [],
   "source": [
    "def PHI(c,I_syn,I,g):\n",
    "    f=(c*I_syn-I)/(1-np.exp(-g*(g*I_syn-I)))\n",
    "    return f"
   ]
  },
  {
   "cell_type": "markdown",
   "metadata": {},
   "source": [
    "### Neural Circuit\n",
    "$$ x_{1}=J_{11}S_1-J_{12}S_2+I_{0}+I_{1}+I_{noise,1}$$\n",
    "$$ x_{2}=J_{22}S_2-J_{21}S_1+I_{0}+I_{2}+I_{noise,1}$$\n",
    "\n",
    "where the synaptic couplings are $J_{11}=0.2609$, $J_{22}=0.2609$, $J_{12}=0.0497$ and $J_{21}=0.0497$.\n",
    "$I_{0}=0.3255 nA$ represents external input \n"
   ]
  },
  {
   "cell_type": "code",
   "execution_count": 3,
   "metadata": {},
   "outputs": [],
   "source": [
    "def total_synaptic_current(S_1,S_2,I_1,I_2,I_noise_1,I_noise_2):\n",
    "    # Synaptic coupling\n",
    "    J_11=0.2609 # nA\n",
    "    J_22=0.2609 # nA\n",
    "    J_12=0.0497 # nA\n",
    "    J_21=0.0497 # nA\n",
    "    I_0=0.3255  # nA\n",
    "    x_1=J_11*S_1-J_12*S_2+I_0+I_1+I_noise_1\n",
    "    x_2=J_22*S_2-J_21*S_1+I_0+I_2+I_noise_2\n",
    "    return x_1, x_2\n"
   ]
  },
  {
   "cell_type": "markdown",
   "metadata": {},
   "source": [
    "### Background activity\n",
    "$$ \\tau_{AMPA}\\frac{d I_{noise,i}(t)}{dt} =-I_{noise,i}(t)+\\eta_i(t)\\sqrt{\\tau_{AMPA}}\\sigma_{noise}$$"
   ]
  },
  {
   "cell_type": "code",
   "execution_count": 4,
   "metadata": {},
   "outputs": [],
   "source": [
    "def Background_Activity(I_noise):\n",
    "    h=0.2\n",
    "    sigma_noise=0.02 # nA\n",
    "    tau_AMPA=2 #ms\n",
    "    eta_noise=np.random.normal(0,1,1)\n",
    "    k=(-(I_noise)+eta_noise*np.sqrt(tau_AMPA)*sigma_noise)\n",
    "    I_noise_new=I_noise+h/tau_AMPA*(-(I_noise+h/2*k)+eta_noise\n",
    "                                *np.sqrt(tau_AMPA)*sigma_noise)\n",
    "    return I_noise_new"
   ]
  },
  {
   "cell_type": "markdown",
   "metadata": {},
   "source": [
    "### Network Dynamics\n",
    "$$ \\tau_r\\frac{d r_{i}}{dt} =-r_{i}+\\phi(I_{syn,i})$$"
   ]
  },
  {
   "cell_type": "code",
   "execution_count": 5,
   "metadata": {},
   "outputs": [],
   "source": [
    "def Network_Dynamics(r,I):\n",
    "    h=0.2 #ms\n",
    "    tau_r=60 #ms\n",
    "    r_new=r+h/tau_r*(-r+PHI(I))\n",
    "    return r_new"
   ]
  },
  {
   "cell_type": "markdown",
   "metadata": {},
   "source": [
    "$$ \\tau_r\\frac{d r_{I}}{dt} =-r_{I}+\\phi(I_syn,I)$$"
   ]
  },
  {
   "cell_type": "code",
   "execution_count": 6,
   "metadata": {},
   "outputs": [],
   "source": [
    "def r_I(r,I):\n",
    "    h=0.2 #ms\n",
    "    tau_r=60 #ms\n",
    "    r_new=r+h/tau_r*(-r+PHI(I))\n",
    "    return r_new"
   ]
  },
  {
   "cell_type": "markdown",
   "metadata": {},
   "source": [
    "$$ \\frac{d S_{AMPA,i}}{dt} =\\frac{-S_{AMPA,i}}{\\tau_{AMPA}}+r_i$$"
   ]
  },
  {
   "cell_type": "code",
   "execution_count": 7,
   "metadata": {},
   "outputs": [],
   "source": [
    "def synamptic_AMPA(r,S):\n",
    "    h=0.2 #ms\n",
    "    tau_AMPA=60 #ms\n",
    "    S_new=S+h(-S/tau_AMPA+r)\n",
    "    return S_new"
   ]
  },
  {
   "cell_type": "markdown",
   "metadata": {},
   "source": [
    "$$ \\frac{d S_{NMDA,i}}{dt} =\\frac{-S_{NMDA,i}}{\\tau_{NMDA}}+(1-S_{NMDA,i})F(\\psi(r_i))$$"
   ]
  },
  {
   "cell_type": "code",
   "execution_count": 8,
   "metadata": {},
   "outputs": [],
   "source": [
    "def synamptic_NMDA(r,S):\n",
    "    h=0.2 #ms\n",
    "    tau_NMDA=60 #ms\n",
    "    S_NMDA_new=S+h(-S/tau_NMDA+(1-S_NMDA)*F(psi(r)))\n",
    "    return S_NMDA_new"
   ]
  },
  {
   "cell_type": "markdown",
   "metadata": {},
   "source": [
    "$$ \\frac{d S_{GABA,i}}{dt} =\\frac{-S_{GABA,i}}{\\tau_{GABA}}+r_i$$"
   ]
  },
  {
   "cell_type": "code",
   "execution_count": 9,
   "metadata": {},
   "outputs": [],
   "source": [
    "def synamptic_GABA(r,S):\n",
    "    h=0.2 #ms\n",
    "    tau_GABA=60 #ms\n",
    "    S_GABA_new=S+h(-S/tau_AMPA+r)\n",
    "    return S_GABA_new"
   ]
  },
  {
   "cell_type": "markdown",
   "metadata": {},
   "source": [
    "### Input Current Target\n",
    "\n",
    "$$ I_i=J_{A,ext}\\mu_0\\left(1+ \\frac{c'}{100} \\right) $$\n"
   ]
  },
  {
   "cell_type": "code",
   "execution_count": 10,
   "metadata": {},
   "outputs": [],
   "source": [
    "def I_input_1(c_dash):\n",
    "    J_A_ext=0.00052 # nA/Hz\n",
    "    mu_0=30 # Hz\n",
    "    I_motion=J_A_ext*mu_0*(1+(c_dash)/100)\n",
    "    return I_motion"
   ]
  },
  {
   "cell_type": "markdown",
   "metadata": {},
   "source": [
    "$$ I_2=J_{A,ext}\\mu_0\\left(1- \\frac{c'}{100} \\right) $$"
   ]
  },
  {
   "cell_type": "code",
   "execution_count": 11,
   "metadata": {},
   "outputs": [],
   "source": [
    "def I_input_2(c_dash):\n",
    "    J_A_ext=0.00052 # nA/Hz\n",
    "    mu_0=30 # Hz\n",
    "    I_motion=J_A_ext*mu_0*(1-(c_dash)/100)\n",
    "    return I_motion"
   ]
  },
  {
   "cell_type": "code",
   "execution_count": 12,
   "metadata": {},
   "outputs": [],
   "source": [
    "h=0.2\n",
    "time=np.arange(-1000,2000,h)\n",
    "J_A_ext=0.00052 # nA/Hz\n",
    "mu_0=30 # Hz\n",
    "\n",
    "I_noise_1=0.04*np.random.normal(0,1,len(time))\n",
    "I_noise_2=0.04*np.random.normal(0,1,len(time))\n",
    "\n",
    "x_1=0*J_A_ext*mu_0*np.random.uniform(0,1,len(time))\n",
    "x_2=0*J_A_ext*mu_0*np.random.uniform(0,1,len(time))\n",
    "\n",
    "S_1=0.1*np.random.uniform(0,1,len(time))# np.random.normal(0,1,len(time))*0.0004\n",
    "S_2=0.1*np.random.uniform(0,1,len(time)) #np.random.normal(0,1,len(time))*0.0004\n",
    "\n",
    "I_1=0.0*np.ones(len(time)) # np.zeros((1,len(time)))\n",
    "I_2=0.0*np.ones(len(time)) # np.zeros((1,len(time)))\n",
    "Firing_target_1=0*time # np.zeros((1,len(time)))\n",
    "Firing_target_2=0*time # np.zeros((1,len(time)))\n",
    "\n",
    "\n"
   ]
  },
  {
   "cell_type": "code",
   "execution_count": 14,
   "metadata": {},
   "outputs": [
    {
     "ename": "TypeError",
     "evalue": "PHI() missing 3 required positional arguments: 'I_syn', 'I', and 'g'",
     "output_type": "error",
     "traceback": [
      "\u001b[0;31m---------------------------------------------------------------------------\u001b[0m",
      "\u001b[0;31mTypeError\u001b[0m                                 Traceback (most recent call last)",
      "\u001b[0;32m<ipython-input-14-75533522462d>\u001b[0m in \u001b[0;36m<module>\u001b[0;34m\u001b[0m\n\u001b[1;32m     14\u001b[0m \u001b[0;34m\u001b[0m\u001b[0m\n\u001b[1;32m     15\u001b[0m \u001b[0;34m\u001b[0m\u001b[0m\n\u001b[0;32m---> 16\u001b[0;31m     \u001b[0mFiring_target_1\u001b[0m\u001b[0;34m[\u001b[0m\u001b[0mi\u001b[0m\u001b[0;34m]\u001b[0m\u001b[0;34m=\u001b[0m\u001b[0mPHI\u001b[0m\u001b[0;34m(\u001b[0m\u001b[0mx_1\u001b[0m\u001b[0;34m[\u001b[0m\u001b[0mi\u001b[0m\u001b[0;34m]\u001b[0m\u001b[0;34m)\u001b[0m\u001b[0;34m\u001b[0m\u001b[0;34m\u001b[0m\u001b[0m\n\u001b[0m\u001b[1;32m     17\u001b[0m     \u001b[0mFiring_target_2\u001b[0m\u001b[0;34m[\u001b[0m\u001b[0mi\u001b[0m\u001b[0;34m]\u001b[0m\u001b[0;34m=\u001b[0m\u001b[0mPHI\u001b[0m\u001b[0;34m(\u001b[0m\u001b[0mx_2\u001b[0m\u001b[0;34m[\u001b[0m\u001b[0mi\u001b[0m\u001b[0;34m]\u001b[0m\u001b[0;34m)\u001b[0m\u001b[0;34m\u001b[0m\u001b[0;34m\u001b[0m\u001b[0m\n\u001b[1;32m     18\u001b[0m \u001b[0;34m\u001b[0m\u001b[0m\n",
      "\u001b[0;31mTypeError\u001b[0m: PHI() missing 3 required positional arguments: 'I_syn', 'I', and 'g'"
     ]
    }
   ],
   "source": [
    "c_dash=0.0\n",
    "\n",
    "for i in range (0,len(time)-1):\n",
    "    if time[i] >=500 and time[i]<600:\n",
    "        c_dash=25.0\n",
    "    elif time[i] >=700 and time[i]<800:\n",
    "        c_dash=35.0\n",
    "    elif time[i] >=900 and time[i]<1000:\n",
    "        c_dash=45.0\n",
    "    elif time[i] >=1100 and time[i]<1200:\n",
    "        c_dash=25.0\n",
    "    else:\n",
    "        c_dash=0.0\n",
    "    \n",
    "    \n",
    "    Firing_target_1[i]=PHI(x_1[i])\n",
    "    Firing_target_2[i]=PHI(x_2[i])\n",
    "    \n",
    "    I_noise_1[i+1]=Background_Activity(I_noise_1[i])\n",
    "    I_noise_2[i+1]=Background_Activity(I_noise_2[i])\n",
    "    \n",
    "    I_1[i+1]=I_input_1(c_dash)\n",
    "    I_2[i+1]=I_input_2(c_dash)\n",
    "   \n",
    "    x_1[i+1],x_2[i+1]=total_synaptic_current(S_1[i],S_2[i],I_1[i+1],\n",
    "                                      I_2[i+1],I_noise_1[i+1],I_noise_2[i+1])\n",
    "    S_1[i+1]=Network_Dynamics(S_1[i],x_1[i+1])\n",
    "    S_2[i+1]=Network_Dynamics(S_2[i],x_2[i+1])\n",
    "   \n"
   ]
  },
  {
   "cell_type": "markdown",
   "metadata": {},
   "source": [
    "### Plotting\n",
    "#### Input"
   ]
  },
  {
   "cell_type": "code",
   "execution_count": null,
   "metadata": {
    "scrolled": true
   },
   "outputs": [],
   "source": [
    "fig = plt.figure(figsize=(8,4))\n",
    "plt.subplot(311)\n",
    "plt.plot(time,S_1,'-',color='blue',label=\"S_1\")\n",
    "plt.plot(time,S_2,'-',color='red',label=\"S_2\")\n",
    "plt.grid()\n",
    "plt.xlim((-500,1500))\n",
    "plt.xlabel('time(ms)')\n",
    "plt.ylabel('S')\n",
    "plt.legend(bbox_to_anchor=(1.05, 1), loc=2, borderaxespad=0.)\n",
    "\n",
    "plt.subplot(312)\n",
    "plt.plot(time,Firing_target_1,'-',color='blue',label=\"H_1\")\n",
    "plt.plot(time,Firing_target_2,'-',color='red',label=\"H_2\")\n",
    "plt.grid()\n",
    "plt.xlabel('time(ms)')\n",
    "plt.ylabel('Firing Rate (Hz)')\n",
    "plt.xlim((-500,1500))\n",
    "plt.legend(bbox_to_anchor=(1.05, 1), loc=2, borderaxespad=0.)\n",
    "\n",
    "plt.subplot(313)\n",
    "plt.plot(time,I_1,'-',color='blue',label=\"I_1\")\n",
    "plt.plot(time,I_1,'-',color='red',label=\"I_2\")\n",
    "plt.grid()\n",
    "plt.xlabel('time(ms)')\n",
    "plt.ylabel('Input')\n",
    "plt.xlim((-500,1500))\n",
    "plt.legend(bbox_to_anchor=(1.05, 1), loc=2, borderaxespad=0.)\n",
    "\n",
    "#plt.ylim((30,50))\n",
    "plt.show()\n",
    "\n",
    "fig = plt.figure(figsize=(8,4))\n",
    "plt.plot(S_1,S_2,'-',color='red')\n",
    "plt.grid()\n",
    "plt.xlim((-500,1500))\n",
    "plt.xlabel('S1')\n",
    "plt.ylabel('S2')\n",
    "plt.title('Phase Plane')\n",
    "plt.legend(bbox_to_anchor=(1.05, 1), loc=2, borderaxespad=0.)\n",
    "\n"
   ]
  },
  {
   "cell_type": "code",
   "execution_count": null,
   "metadata": {},
   "outputs": [],
   "source": []
  }
 ],
 "metadata": {
  "kernelspec": {
   "display_name": "Python 3",
   "language": "python",
   "name": "python3"
  },
  "language_info": {
   "codemirror_mode": {
    "name": "ipython",
    "version": 3
   },
   "file_extension": ".py",
   "mimetype": "text/x-python",
   "name": "python",
   "nbconvert_exporter": "python",
   "pygments_lexer": "ipython3",
   "version": "3.7.9"
  }
 },
 "nbformat": 4,
 "nbformat_minor": 1
}
